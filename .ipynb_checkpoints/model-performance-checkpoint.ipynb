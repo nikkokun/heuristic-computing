{
 "cells": [
  {
   "cell_type": "markdown",
   "metadata": {},
   "source": [
    "# Imports"
   ]
  },
  {
   "cell_type": "code",
   "execution_count": 1,
   "metadata": {
    "ExecuteTime": {
     "end_time": "2019-01-13T10:27:29.851340Z",
     "start_time": "2019-01-13T10:27:28.885894Z"
    },
    "collapsed": false
   },
   "outputs": [
    {
     "name": "stderr",
     "output_type": "stream",
     "text": [
      "/home/nicoroble/anaconda3/envs/tensorflow-gpu/lib/python3.6/importlib/_bootstrap.py:219: RuntimeWarning: compiletime version 3.5 of module 'tensorflow.python.framework.fast_tensor_util' does not match runtime version 3.6\n",
      "  return f(*args, **kwds)\n",
      "Using TensorFlow backend.\n"
     ]
    }
   ],
   "source": [
    "import tensorflow as tf\n",
    "import keras, keras.layers as L, keras.backend as K\n",
    "import numpy as np\n",
    "from sklearn.model_selection import train_test_split\n",
    "import matplotlib.pyplot as plt\n",
    "import numpy as np\n",
    "from collections import defaultdict\n",
    "from keras.models import save_model\n",
    "from keras.datasets import cifar10, fashion_mnist\n",
    "from keras.models import load_model\n",
    "from annoy import AnnoyIndex\n",
    "from sklearn.metrics import classification_report\n",
    "from keras.utils import np_utils\n",
    "import yagmail\n",
    "import os\n",
    "\n",
    "%matplotlib inline"
   ]
  },
  {
   "cell_type": "code",
   "execution_count": 2,
   "metadata": {
    "ExecuteTime": {
     "end_time": "2019-01-13T10:27:29.862606Z",
     "start_time": "2019-01-13T10:27:29.852687Z"
    },
    "collapsed": false
   },
   "outputs": [],
   "source": [
    "email = os.environ.get('GMAIL')\n",
    "pswd = os.environ.get('GMAILPASS')\n",
    "yag = yagmail.SMTP(email, pswd)"
   ]
  },
  {
   "cell_type": "code",
   "execution_count": 3,
   "metadata": {
    "ExecuteTime": {
     "end_time": "2019-01-13T10:27:29.867912Z",
     "start_time": "2019-01-13T10:27:29.864999Z"
    },
    "collapsed": false
   },
   "outputs": [],
   "source": [
    "def reset_tf_session():\n",
    "    curr_session = tf.get_default_session()\n",
    "    # close current session\n",
    "    if curr_session is not None:\n",
    "        curr_session.close()\n",
    "    # reset graph\n",
    "    K.clear_session()\n",
    "    # create new session\n",
    "    config = tf.ConfigProto()\n",
    "    config.gpu_options.allow_growth = True\n",
    "    s = tf.InteractiveSession(config=config)\n",
    "    K.set_session(s)"
   ]
  },
  {
   "cell_type": "code",
   "execution_count": 4,
   "metadata": {
    "ExecuteTime": {
     "end_time": "2019-01-13T10:27:29.991988Z",
     "start_time": "2019-01-13T10:27:29.869200Z"
    },
    "collapsed": false
   },
   "outputs": [],
   "source": [
    "reset_tf_session()"
   ]
  },
  {
   "cell_type": "markdown",
   "metadata": {},
   "source": [
    "# Loading the Models"
   ]
  },
  {
   "cell_type": "code",
   "execution_count": 5,
   "metadata": {
    "ExecuteTime": {
     "end_time": "2019-01-13T10:27:29.994861Z",
     "start_time": "2019-01-13T10:27:29.992977Z"
    },
    "collapsed": false
   },
   "outputs": [],
   "source": [
    "bit_size = 32\n",
    "architecture = '1024'"
   ]
  },
  {
   "cell_type": "markdown",
   "metadata": {},
   "source": [
    "## Base"
   ]
  },
  {
   "cell_type": "code",
   "execution_count": 6,
   "metadata": {
    "ExecuteTime": {
     "end_time": "2019-01-13T10:27:29.999306Z",
     "start_time": "2019-01-13T10:27:29.996017Z"
    },
    "collapsed": false
   },
   "outputs": [],
   "source": [
    "# autoencoder_id='final-multitask09'\n",
    "# model_path = F'fashion-models/bitsize{bit_size}/{architecture}architecture/'\n",
    "# basefinal = load_model(F'{model_path}encoder{autoencoder_id}.h5')"
   ]
  },
  {
   "cell_type": "code",
   "execution_count": 7,
   "metadata": {
    "ExecuteTime": {
     "end_time": "2019-01-13T10:27:30.400168Z",
     "start_time": "2019-01-13T10:27:30.001344Z"
    },
    "collapsed": false
   },
   "outputs": [
    {
     "name": "stderr",
     "output_type": "stream",
     "text": [
      "/home/nicoroble/anaconda3/envs/tensorflow-gpu/lib/python3.6/site-packages/keras/engine/saving.py:292: UserWarning: No training configuration found in save file: the model was *not* compiled. Compile it manually.\n",
      "  warnings.warn('No training configuration found in save file: '\n"
     ]
    }
   ],
   "source": [
    "autoencoder_id='basefinal'\n",
    "model_path = F'fashion-models/bitsize{bit_size}/{architecture}architecture/'\n",
    "multitask = load_model(F'{model_path}encoder{autoencoder_id}.h5')"
   ]
  },
  {
   "cell_type": "code",
   "execution_count": null,
   "metadata": {
    "collapsed": false
   },
   "outputs": [],
   "source": []
  },
  {
   "cell_type": "markdown",
   "metadata": {},
   "source": [
    "# Importing the Fashion MNIST Dataset"
   ]
  },
  {
   "cell_type": "code",
   "execution_count": 8,
   "metadata": {
    "ExecuteTime": {
     "end_time": "2019-01-13T10:27:30.682182Z",
     "start_time": "2019-01-13T10:27:30.401678Z"
    },
    "collapsed": false
   },
   "outputs": [],
   "source": [
    "(x_train, y_train), (x_test, y_test) = fashion_mnist.load_data()"
   ]
  },
  {
   "cell_type": "code",
   "execution_count": 9,
   "metadata": {
    "ExecuteTime": {
     "end_time": "2019-01-13T10:27:30.685111Z",
     "start_time": "2019-01-13T10:27:30.683274Z"
    },
    "collapsed": false
   },
   "outputs": [],
   "source": [
    "# x_val, x_test, y_val, y_test = train_test_split(x_test, y_test, test_size=0.2, random_state=33)"
   ]
  },
  {
   "cell_type": "code",
   "execution_count": 10,
   "metadata": {
    "ExecuteTime": {
     "end_time": "2019-01-13T10:27:30.703212Z",
     "start_time": "2019-01-13T10:27:30.686699Z"
    },
    "collapsed": false
   },
   "outputs": [],
   "source": [
    "x_test = x_test.reshape([-1, 28, 28, 1])\n",
    "# x_val = x_val.reshape([-1, 28, 28, 1])\n",
    "\n",
    "IMG_SHAPE = x_test.shape[1:]\n",
    "\n",
    "# center images\n",
    "x_test = x_test.astype('float32') / 255.0\n",
    "# x_val = x_val.astype('float32') / 255.0"
   ]
  },
  {
   "cell_type": "markdown",
   "metadata": {},
   "source": [
    "# Encoding the images"
   ]
  },
  {
   "cell_type": "code",
   "execution_count": 11,
   "metadata": {
    "ExecuteTime": {
     "end_time": "2019-01-13T10:27:30.705972Z",
     "start_time": "2019-01-13T10:27:30.704398Z"
    },
    "collapsed": false
   },
   "outputs": [],
   "source": [
    "# base_test_codes = basefinal.predict(x_test)\n",
    "# base_val_codes = basefinal.predict(x_val)"
   ]
  },
  {
   "cell_type": "code",
   "execution_count": 12,
   "metadata": {
    "ExecuteTime": {
     "end_time": "2019-01-13T10:27:31.729722Z",
     "start_time": "2019-01-13T10:27:30.707091Z"
    },
    "collapsed": false
   },
   "outputs": [],
   "source": [
    "# multitask_test_codes = multitask.predict(x_test)\n",
    "multitask_val_codes = multitask.predict(x_test)"
   ]
  },
  {
   "cell_type": "markdown",
   "metadata": {
    "ExecuteTime": {
     "end_time": "2019-01-13T08:53:23.119598Z",
     "start_time": "2019-01-13T08:53:23.117854Z"
    }
   },
   "source": [
    "# Approximate Nearest Neighbor Search Indeces"
   ]
  },
  {
   "cell_type": "code",
   "execution_count": 13,
   "metadata": {
    "ExecuteTime": {
     "end_time": "2019-01-13T10:27:31.733371Z",
     "start_time": "2019-01-13T10:27:31.731234Z"
    },
    "collapsed": false
   },
   "outputs": [],
   "source": [
    "# base_index = AnnoyIndex(bit_size, metric='angular')\n",
    "# for i in range(len(base_val_codes)):\n",
    "#     base_index.add_item(i, base_val_codes[i])"
   ]
  },
  {
   "cell_type": "code",
   "execution_count": 14,
   "metadata": {
    "ExecuteTime": {
     "end_time": "2019-01-13T10:27:31.737815Z",
     "start_time": "2019-01-13T10:27:31.734933Z"
    },
    "collapsed": false
   },
   "outputs": [],
   "source": [
    "# base_index.build(1000)"
   ]
  },
  {
   "cell_type": "code",
   "execution_count": 15,
   "metadata": {
    "ExecuteTime": {
     "end_time": "2019-01-13T10:27:31.786799Z",
     "start_time": "2019-01-13T10:27:31.739353Z"
    },
    "collapsed": false
   },
   "outputs": [],
   "source": [
    "multitask_index = AnnoyIndex(bit_size, metric='angular')\n",
    "for i in range(len(multitask_val_codes)):\n",
    "    multitask_index.add_item(i, multitask_val_codes[i])"
   ]
  },
  {
   "cell_type": "code",
   "execution_count": 16,
   "metadata": {
    "ExecuteTime": {
     "end_time": "2019-01-13T10:27:39.308946Z",
     "start_time": "2019-01-13T10:27:31.787791Z"
    },
    "collapsed": false
   },
   "outputs": [
    {
     "data": {
      "text/plain": [
       "True"
      ]
     },
     "execution_count": 16,
     "metadata": {},
     "output_type": "execute_result"
    }
   ],
   "source": [
    "multitask_index.build(1000)"
   ]
  },
  {
   "cell_type": "code",
   "execution_count": 17,
   "metadata": {
    "ExecuteTime": {
     "end_time": "2019-01-13T10:27:39.315294Z",
     "start_time": "2019-01-13T10:27:39.310366Z"
    },
    "collapsed": false
   },
   "outputs": [],
   "source": [
    "def get_scores(indexer, test_codes, n):\n",
    "    precision_list = []\n",
    "    recall_list = []\n",
    "    f1_score_list = []\n",
    "    support_list = []\n",
    "    \n",
    "    for i in range(len(test_codes)):\n",
    "        y_true = [y_test[i]] * n\n",
    "        y_pred = indexer.get_nns_by_vector(vector=test_codes[i],\n",
    "                                           n=n+1,\n",
    "                                           search_k=200000\n",
    "                                          )\n",
    "        y_pred.pop(0)\n",
    "        y_pred = y_test[y_pred]\n",
    "        result = classification_report(y_true, y_pred, output_dict=True)['micro avg']\n",
    "        precision_list.append(result['precision'])\n",
    "        recall_list.append(result['recall'])\n",
    "        f1_score_list.append(result['f1-score'])\n",
    "        support_list.append(result['support'])\n",
    "        \n",
    "    precision = np.mean(precision_list)\n",
    "    recall = np.mean(recall_list)\n",
    "    f1_score = np.mean(f1_score_list)\n",
    "    support = np.mean(support_list)\n",
    "    \n",
    "    results = {'precision': precision, 'recall': recall, 'f1-score': f1_score, 'support': support} \n",
    "    \n",
    "    return results"
   ]
  },
  {
   "cell_type": "code",
   "execution_count": 18,
   "metadata": {
    "ExecuteTime": {
     "end_time": "2019-01-13T10:29:59.231001Z",
     "start_time": "2019-01-13T10:27:39.316651Z"
    },
    "collapsed": false
   },
   "outputs": [
    {
     "name": "stderr",
     "output_type": "stream",
     "text": [
      "/home/nicoroble/anaconda3/envs/tensorflow-gpu/lib/python3.6/site-packages/sklearn/metrics/classification.py:1143: UndefinedMetricWarning: Precision and F-score are ill-defined and being set to 0.0 in labels with no predicted samples.\n",
      "  'precision', 'predicted', average, warn_for)\n",
      "/home/nicoroble/anaconda3/envs/tensorflow-gpu/lib/python3.6/site-packages/sklearn/metrics/classification.py:1145: UndefinedMetricWarning: Recall and F-score are ill-defined and being set to 0.0 in labels with no true samples.\n",
      "  'recall', 'true', average, warn_for)\n"
     ]
    }
   ],
   "source": [
    "results = get_scores(multitask_index, multitask_val_codes, 1)"
   ]
  },
  {
   "cell_type": "code",
   "execution_count": 19,
   "metadata": {
    "ExecuteTime": {
     "end_time": "2019-01-13T10:29:59.235018Z",
     "start_time": "2019-01-13T10:29:59.232482Z"
    },
    "collapsed": false
   },
   "outputs": [
    {
     "data": {
      "text/plain": [
       "{'precision': 0.8426, 'recall': 0.8426, 'f1-score': 0.8426, 'support': 1.0}"
      ]
     },
     "execution_count": 19,
     "metadata": {},
     "output_type": "execute_result"
    }
   ],
   "source": [
    "results"
   ]
  },
  {
   "cell_type": "code",
   "execution_count": null,
   "metadata": {
    "collapsed": false
   },
   "outputs": [],
   "source": []
  }
 ],
 "metadata": {
  "anaconda-cloud": {},
  "kernelspec": {
   "display_name": "Python [conda env:tensorflow-gpu]",
   "language": "python",
   "name": "conda-env-tensorflow-gpu-py"
  },
  "language_info": {
   "codemirror_mode": {
    "name": "ipython",
    "version": 3
   },
   "file_extension": ".py",
   "mimetype": "text/x-python",
   "name": "python",
   "nbconvert_exporter": "python",
   "pygments_lexer": "ipython3",
   "version": "3.6.7"
  },
  "toc": {
   "base_numbering": 1,
   "nav_menu": {},
   "number_sections": true,
   "sideBar": true,
   "skip_h1_title": false,
   "title_cell": "Table of Contents",
   "title_sidebar": "Contents",
   "toc_cell": false,
   "toc_position": {},
   "toc_section_display": true,
   "toc_window_display": true
  }
 },
 "nbformat": 4,
 "nbformat_minor": 1
}
