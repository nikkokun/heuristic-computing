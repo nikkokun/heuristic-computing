{
 "cells": [
  {
   "cell_type": "markdown",
   "metadata": {},
   "source": [
    "# Imports"
   ]
  },
  {
   "cell_type": "code",
   "execution_count": 5,
   "metadata": {
    "ExecuteTime": {
     "end_time": "2019-01-11T02:46:07.969209Z",
     "start_time": "2019-01-11T02:46:07.962225Z"
    },
    "collapsed": false
   },
   "outputs": [],
   "source": [
    "import tensorflow as tf\n",
    "import keras, keras.layers as L, keras.backend as K\n",
    "import numpy as np\n",
    "from sklearn.model_selection import train_test_split\n",
    "import matplotlib.pyplot as plt\n",
    "import numpy as np\n",
    "from collections import defaultdict\n",
    "from keras.models import save_model\n",
    "import keras\n",
    "from keras.datasets import cifar10, fashion_mnist\n",
    "from keras.models import load_model\n",
    "from keras.callbacks import TensorBoard\n",
    "from IPython.display import SVG\n",
    "from keras.utils.vis_utils import model_to_dot\n",
    "import os\n",
    "\n",
    "from keras.utils import np_utils\n",
    "from keras.preprocessing.image import ImageDataGenerator\n",
    "from keras.models import Sequential\n",
    "from keras.layers import UpSampling2D, Reshape, Dense,Activation, Flatten, Dropout, BatchNormalization, Conv2D, Conv2DTranspose, MaxPooling2D, InputLayer\n",
    "from keras import regularizers\n",
    "from keras.callbacks import LearningRateScheduler\n",
    "from keras.utils.vis_utils import plot_model\n",
    "\n",
    "%matplotlib inline"
   ]
  },
  {
   "cell_type": "markdown",
   "metadata": {},
   "source": [
    "# Architecture Variables"
   ]
  },
  {
   "cell_type": "code",
   "execution_count": 6,
   "metadata": {
    "ExecuteTime": {
     "end_time": "2019-01-11T02:46:09.370771Z",
     "start_time": "2019-01-11T02:46:09.365961Z"
    },
    "collapsed": false
   },
   "outputs": [],
   "source": [
    "bit_size = 32\n",
    "num_epochs = 200\n",
    "batch_size = 500\n",
    "architecture = '1024'\n",
    "autoencoder_id='final01'\n",
    "model_path = F'fashion-models/bitsize{bit_size}/{architecture}architecture/'\n",
    "log_path = F'fashion-logs/autoencoder-{bit_size}-{architecture}-{autoencoder_id}'\n",
    "tensorboard = TensorBoard(log_dir=log_path)"
   ]
  },
  {
   "cell_type": "code",
   "execution_count": 9,
   "metadata": {
    "ExecuteTime": {
     "end_time": "2019-01-11T02:46:33.993998Z",
     "start_time": "2019-01-11T02:46:33.988581Z"
    },
    "collapsed": false
   },
   "outputs": [],
   "source": [
    "import yagmail\n",
    "email = os.environ.get('GMAIL')\n",
    "pswd = os.environ.get('GMAILPASS')\n",
    "yag = yagmail.SMTP(email, pswd)"
   ]
  },
  {
   "cell_type": "markdown",
   "metadata": {},
   "source": [
    "# Load Data"
   ]
  },
  {
   "cell_type": "code",
   "execution_count": 10,
   "metadata": {
    "ExecuteTime": {
     "end_time": "2019-01-11T02:46:36.282981Z",
     "start_time": "2019-01-11T02:46:36.257774Z"
    },
    "collapsed": false
   },
   "outputs": [],
   "source": [
    "class ModelSaveCallback(keras.callbacks.Callback):\n",
    "\n",
    "    def __init__(self, file_name):\n",
    "        super(ModelSaveCallback, self).__init__()\n",
    "        self.file_name = file_name\n",
    "\n",
    "    def on_epoch_end(self, epoch, logs=None):\n",
    "        model_filename = self.file_name.format(epoch)\n",
    "        save_model(self.model, model_filename)\n",
    "        print(\"Model saved in {}\".format(model_filename))\n",
    "\n",
    "\n",
    "# !!! remember to clear session/graph if you rebuild your graph to avoid out-of-memory errors !!!\n",
    "def reset_tf_session():\n",
    "    curr_session = tf.get_default_session()\n",
    "    # close current session\n",
    "    if curr_session is not None:\n",
    "        curr_session.close()\n",
    "    # reset graph\n",
    "    K.clear_session()\n",
    "    # create new session\n",
    "    config = tf.ConfigProto()\n",
    "    config.gpu_options.allow_growth = True\n",
    "    s = tf.InteractiveSession(config=config)\n",
    "    K.set_session(s)"
   ]
  },
  {
   "cell_type": "code",
   "execution_count": 5,
   "metadata": {
    "ExecuteTime": {
     "end_time": "2019-01-08T22:50:57.142219Z",
     "start_time": "2019-01-08T22:50:56.859289Z"
    },
    "collapsed": false
   },
   "outputs": [],
   "source": [
    "(x_train, y_train), (x_test, y_test) = fashion_mnist.load_data()"
   ]
  },
  {
   "cell_type": "code",
   "execution_count": 6,
   "metadata": {
    "ExecuteTime": {
     "end_time": "2019-01-08T22:50:57.145530Z",
     "start_time": "2019-01-08T22:50:57.143264Z"
    },
    "collapsed": false
   },
   "outputs": [
    {
     "name": "stdout",
     "output_type": "stream",
     "text": [
      "Train samples: (60000, 28, 28) (60000,)\n",
      "Test samples: (10000, 28, 28) (10000,)\n"
     ]
    }
   ],
   "source": [
    "print(\"Train samples:\", x_train.shape, y_train.shape)\n",
    "print(\"Test samples:\", x_test.shape, y_test.shape)"
   ]
  },
  {
   "cell_type": "code",
   "execution_count": 7,
   "metadata": {
    "ExecuteTime": {
     "end_time": "2019-01-08T22:50:57.150736Z",
     "start_time": "2019-01-08T22:50:57.147904Z"
    },
    "collapsed": false
   },
   "outputs": [],
   "source": [
    "NUM_CLASSES = 10\n",
    "cifar10_classes = [\"airplane\", \"automobile\", \"bird\", \"cat\", \"deer\", \n",
    "                   \"dog\", \"frog\", \"horse\", \"ship\", \"truck\"]"
   ]
  },
  {
   "cell_type": "code",
   "execution_count": 8,
   "metadata": {
    "ExecuteTime": {
     "end_time": "2019-01-08T22:50:57.686880Z",
     "start_time": "2019-01-08T22:50:57.153044Z"
    },
    "collapsed": false
   },
   "outputs": [
    {
     "data": {
      "image/png": "[encoded data removed]",
      "text/plain": [
       "<matplotlib.figure.Figure at 0x7fd20e92f8d0>"
      ]
     },
     "metadata": {
      "needs_background": "light"
     },
     "output_type": "display_data"
    }
   ],
   "source": [
    "\n",
    "# show random images from train\n",
    "cols = 8\n",
    "rows = 2\n",
    "fig = plt.figure(figsize=(2 * cols - 1, 2.5 * rows - 1))\n",
    "for i in range(cols):\n",
    "    for j in range(rows):\n",
    "        random_index = np.random.randint(0, len(y_train))\n",
    "        ax = fig.add_subplot(rows, cols, i * rows + j + 1)\n",
    "        ax.grid('off')\n",
    "        ax.axis('off')\n",
    "        ax.imshow(x_train[random_index, :])\n",
    "#         ax.set_title(cifar10_classes[y_train[random_index, 0]])"
   ]
  },
  {
   "cell_type": "code",
   "execution_count": 9,
   "metadata": {
    "ExecuteTime": {
     "end_time": "2019-01-08T22:50:57.764819Z",
     "start_time": "2019-01-08T22:50:57.688208Z"
    },
    "collapsed": false
   },
   "outputs": [
    {
     "data": {
      "text/plain": [
       "<matplotlib.image.AxesImage at 0x7fd20adad2b0>"
      ]
     },
     "execution_count": 9,
     "metadata": {},
     "output_type": "execute_result"
    },
    {
     "data": {
      "image/png": "[encoded data removed]",
      "text/plain": [
       "<matplotlib.figure.Figure at 0x7fd20ae8d470>"
      ]
     },
     "metadata": {
      "needs_background": "light"
     },
     "output_type": "display_data"
    }
   ],
   "source": [
    "plt.imshow(x_train[0])"
   ]
  },
  {
   "cell_type": "code",
   "execution_count": 10,
   "metadata": {
    "ExecuteTime": {
     "end_time": "2019-01-08T22:50:57.863775Z",
     "start_time": "2019-01-08T22:50:57.766356Z"
    },
    "collapsed": false
   },
   "outputs": [],
   "source": [
    "x_train = x_train.reshape([-1, 28, 28, 1])\n",
    "x_test = x_test.reshape([-1, 28, 28, 1])\n",
    "\n",
    "IMG_SHAPE = x_train.shape[1:]\n",
    "\n",
    "# center images\n",
    "x_train = x_train.astype('float32') / 255.0\n",
    "x_test = x_test.astype('float32') / 255.0"
   ]
  },
  {
   "cell_type": "markdown",
   "metadata": {},
   "source": [
    "# Architecture"
   ]
  },
  {
   "cell_type": "code",
   "execution_count": 11,
   "metadata": {
    "ExecuteTime": {
     "end_time": "2019-01-08T22:50:57.876428Z",
     "start_time": "2019-01-08T22:50:57.865178Z"
    },
    "collapsed": false
   },
   "outputs": [],
   "source": [
    "def build_encoder(img_shape, code_size):\n",
    "    weight_decay = 1e-4\n",
    "    \n",
    "    # encoder\n",
    "    encoder = Sequential()\n",
    "    encoder.add(InputLayer(img_shape))\n",
    "    \n",
    "    encoder.add(Conv2D(filters=32, kernel_size=(3, 3), padding='same'))\n",
    "    encoder.add(BatchNormalization())\n",
    "    encoder.add(Activation('relu'))\n",
    "    \n",
    "    encoder.add(MaxPooling2D(pool_size=(2, 2), padding='same'))\n",
    "    \n",
    "    \n",
    "    encoder.add(Conv2D(filters=64, kernel_size=(3, 3), padding='same'))\n",
    "    encoder.add(BatchNormalization())\n",
    "    encoder.add(Activation('relu'))\n",
    "    \n",
    "    encoder.add(MaxPooling2D(pool_size=(2, 2), padding='same'))\n",
    "    \n",
    "    encoder.add(Conv2D(filters=128, kernel_size=(3, 3), padding='same'))\n",
    "    encoder.add(BatchNormalization())\n",
    "    encoder.add(Activation('relu'))\n",
    "    \n",
    "    encoder.add(MaxPooling2D(pool_size=(2, 2), padding='same'))\n",
    "    \n",
    "\n",
    "    encoder.add(Conv2D(filters=256, kernel_size=(3, 3), padding='same'))\n",
    "    encoder.add(BatchNormalization())\n",
    "    encoder.add(Activation('relu'))\n",
    "    \n",
    "    encoder.add(MaxPooling2D(pool_size=(2, 2), padding='same'))\n",
    "    \n",
    "    encoder.add(Flatten())                  #flatten image to vector\n",
    "    \n",
    "    encoder.add(Dense(1024))\n",
    "    encoder.add((BatchNormalization()))\n",
    "    encoder.add(Activation('relu'))\n",
    "    \n",
    "    encoder.add(Dense(1024))\n",
    "    encoder.add((BatchNormalization()))\n",
    "    encoder.add(Activation('relu'))\n",
    "    \n",
    "    encoder.add(Dense(code_size))\n",
    "    \n",
    "    return encoder\n",
    "\n",
    "\n",
    "def build_decoder(img_shape, code_size):\n",
    "    decoder = Sequential()\n",
    "    decoder.add(InputLayer((code_size,)))\n",
    "    \n",
    "#     decoder.add(Dense(1024))\n",
    "#     decoder.add((BatchNormalization()))\n",
    "#     decoder.add(Activation('relu'))\n",
    "\n",
    "    decoder.add(Dense(1024))\n",
    "    decoder.add(BatchNormalization())\n",
    "    decoder.add(Activation('relu'))\n",
    "    \n",
    "    decoder.add(Dense(1024))\n",
    "    decoder.add(BatchNormalization())\n",
    "    decoder.add(Activation('relu'))\n",
    "    \n",
    "    decoder.add(Dense(1024))\n",
    "    decoder.add(BatchNormalization())\n",
    "    \n",
    "    decoder.add(Reshape((2,2,256)))\n",
    "    \n",
    "    decoder.add(Conv2D(filters=256, kernel_size=(3, 3), padding='same'))\n",
    "    decoder.add(BatchNormalization())\n",
    "    decoder.add(Activation('relu'))\n",
    "    \n",
    "    decoder.add(UpSampling2D((2,2)))\n",
    "    \n",
    "    decoder.add(Conv2D(filters=128, kernel_size=(3, 3), padding='same'))\n",
    "    decoder.add(BatchNormalization())\n",
    "    decoder.add(Activation('relu'))\n",
    "    \n",
    "    \n",
    "    decoder.add(UpSampling2D((2,2)))\n",
    "    \n",
    "    decoder.add(Conv2D(filters=64, kernel_size=(3, 3), padding='same'))\n",
    "    decoder.add(BatchNormalization())\n",
    "    decoder.add(Activation('relu'))\n",
    "    \n",
    "    \n",
    "    decoder.add(UpSampling2D((2,2)))\n",
    "    \n",
    "    decoder.add(Conv2D(filters=32, kernel_size=(3, 3)))\n",
    "    decoder.add(BatchNormalization())\n",
    "    decoder.add(Activation('relu'))\n",
    "    \n",
    "    decoder.add(UpSampling2D((2,2)))\n",
    "    \n",
    "    decoder.add(Conv2D(filters=1, kernel_size=(3, 3), activation='sigmoid', padding='same'))\n",
    "    \n",
    "    return decoder"
   ]
  },
  {
   "cell_type": "code",
   "execution_count": 12,
   "metadata": {
    "ExecuteTime": {
     "end_time": "2019-01-08T22:50:57.891522Z",
     "start_time": "2019-01-08T22:50:57.877566Z"
    },
    "code_folding": [
     0
    ],
    "collapsed": false
   },
   "outputs": [],
   "source": [
    "# def build_encoder(img_shape, code_size):\n",
    "#     weight_decay = 1e-4\n",
    "    \n",
    "#     # encoder\n",
    "#     encoder = Sequential()\n",
    "#     encoder.add(InputLayer(img_shape))\n",
    "    \n",
    "#     encoder.add(Conv2D(filters=32, kernel_size=(3, 3), activation='relu', padding='same'))\n",
    "# #     encoder.add(BatchNormalization())\n",
    "    \n",
    "# #     encoder.add(Conv2D(filters=32, kernel_size=(3, 3), activation='relu', padding='same'))\n",
    "# #     encoder.add(BatchNormalization())\n",
    "    \n",
    "    \n",
    "#     encoder.add(MaxPooling2D(pool_size=(2, 2), padding='same'))\n",
    "    \n",
    "    \n",
    "# #     encoder.add(Conv2D(filters=64,kernel_size=(3, 3),activation='relu',padding='same'))\n",
    "# #     encoder.add(BatchNormalization())\n",
    "    \n",
    "#     encoder.add(Conv2D(filters=64,kernel_size=(3, 3),activation='relu',padding='same'))\n",
    "# #     encoder.add(BatchNormalization())\n",
    "    \n",
    "    \n",
    "#     encoder.add(MaxPooling2D(pool_size=(2, 2), padding='same'))\n",
    "    \n",
    "# #     encoder.add(Conv2D(filters=128,kernel_size=(3, 3),activation='relu',padding='same'))\n",
    "# #     encoder.add(BatchNormalization())\n",
    "    \n",
    "#     encoder.add(Conv2D(filters=128,kernel_size=(3, 3),activation='relu',padding='same'))\n",
    "# #     encoder.add(BatchNormalization())\n",
    "    \n",
    "#     encoder.add(MaxPooling2D(pool_size=(2, 2), padding='same'))\n",
    "    \n",
    "\n",
    "    \n",
    "# #     encoder.add(Conv2D(filters=256, kernel_size=(3, 3), activation='relu', padding='same'))\n",
    "# #     encoder.add(BatchNormalization())\n",
    "    \n",
    "#     encoder.add(Conv2D(filters=256, kernel_size=(3, 3), activation='relu', padding='same'))\n",
    "# #     encoder.add(BatchNormalization())\n",
    "    \n",
    "#     encoder.add(MaxPooling2D(pool_size=(2, 2), padding='same'))\n",
    "    \n",
    "#     encoder.add(Flatten())                  #flatten image to vector\n",
    "    \n",
    "# #     encoder.add(Dense(1024, activation='relu'))\n",
    "# #     encoder.add(Dropout(0.1))\n",
    "# #     encoder.add(Dense(1024, activation='relu'))\n",
    "    \n",
    "#     encoder.add(Dense(code_size))\n",
    "    \n",
    "#     return encoder\n",
    "\n",
    "\n",
    "# def build_decoder(img_shape, code_size):\n",
    "#     decoder = Sequential()\n",
    "#     decoder.add(InputLayer((code_size,)))\n",
    "    \n",
    "# #     decoder.add(Dense(1024, activation='relu'))\n",
    "    \n",
    "#     decoder.add(Dense(1024))\n",
    "    \n",
    "#     decoder.add(Reshape((2,2,256)))\n",
    "    \n",
    "# #     decoder.add(Conv2D(filters=256, kernel_size=(3, 3), activation='relu', padding='same'))\n",
    "# #     decoder.add(BatchNormalization())\n",
    "    \n",
    "#     decoder.add(Conv2D(filters=256, kernel_size=(3, 3), activation='relu', padding='same'))\n",
    "# #     decoder.add(BatchNormalization())\n",
    "    \n",
    "#     decoder.add(UpSampling2D((2,2)))\n",
    "    \n",
    "# #     decoder.add(Conv2D(filters=128, kernel_size=(3, 3), activation='relu', padding='same'))\n",
    "# #     decoder.add(BatchNormalization())\n",
    "    \n",
    "#     decoder.add(Conv2D(filters=128, kernel_size=(3, 3), activation='relu', padding='same'))\n",
    "# #     decoder.add(BatchNormalization())\n",
    "    \n",
    "#     decoder.add(UpSampling2D((2,2)))\n",
    "    \n",
    "# #     decoder.add(Conv2D(filters=64, kernel_size=(3, 3), activation='relu', padding='same'))\n",
    "# #     decoder.add(BatchNormalization())\n",
    "    \n",
    "#     decoder.add(Conv2D(filters=64, kernel_size=(3, 3), activation='relu', padding='same'))\n",
    "# #     decoder.add(BatchNormalization())\n",
    "    \n",
    "#     decoder.add(UpSampling2D((2,2)))\n",
    "    \n",
    "#     decoder.add(Conv2D(filters=32, kernel_size=(3, 3), activation='relu'))\n",
    "# #     decoder.add(BatchNormalization())\n",
    "    \n",
    "# #     decoder.add(Conv2D(filters=64, kernel_size=(3, 3), activation='relu', padding='same'))\n",
    "# #     decoder.add(BatchNormalization())\n",
    "    \n",
    "#     decoder.add(UpSampling2D((2,2)))\n",
    "    \n",
    "#     decoder.add(Conv2D(filters=1, kernel_size=(3, 3), activation='sigmoid', padding='same'))\n",
    "    \n",
    "#     return decoder"
   ]
  },
  {
   "cell_type": "code",
   "execution_count": 13,
   "metadata": {
    "ExecuteTime": {
     "end_time": "2019-01-08T22:50:57.897794Z",
     "start_time": "2019-01-08T22:50:57.893524Z"
    },
    "code_folding": [
     0
    ],
    "collapsed": false
   },
   "outputs": [],
   "source": [
    "# def build_deep_autoencoder(img_shape, code_size):\n",
    "#     H,W,C = img_shape\n",
    "    \n",
    "#     # encoder\n",
    "#     encoder = keras.models.Sequential()\n",
    "#     encoder.add(L.InputLayer(img_shape))\n",
    "    \n",
    "#     encoder.add(L.Conv2D(filters=32, kernel_size=(3, 3), activation='elu', padding='same'))\n",
    "#     encoder.add(L.MaxPooling2D(pool_size=(2, 2)))\n",
    "# #     encoder.add(L.BatchNormalization())\n",
    "    \n",
    "#     encoder.add(L.Conv2D(filters=64, kernel_size=(3, 3), activation='elu', padding='same'))\n",
    "#     encoder.add(L.MaxPooling2D(pool_size=(2, 2)))\n",
    "# #     encoder.add(L.BatchNormalization())\n",
    "    \n",
    "#     encoder.add(L.Conv2D(filters=128, kernel_size=(3, 3), activation='elu', padding='same'))\n",
    "#     encoder.add(L.MaxPooling2D(pool_size=(2, 2)))\n",
    "# #     encoder.add(L.BatchNormalization())\n",
    "    \n",
    "# #     encoder.add(L.Conv2D(filters=256, kernel_size=(3, 3), activation='elu', padding='same'))\n",
    "# #     encoder.add(L.MaxPooling2D(pool_size=(2, 2)))\n",
    "# #     encoder.add(L.BatchNormalization())\n",
    "    \n",
    "#     encoder.add(L.Flatten())                  #flatten image to vector\n",
    "    \n",
    "#     encoder.add(L.Dense(2048, activation='elu'))\n",
    "#     encoder.add(L.Dense(2048, activation='elu'))\n",
    "# #     encoder.add(L.Dense(1024, activation='elu'))\n",
    "\n",
    "# #     encoder.add(L.Dropout(rate=0.2))\n",
    "# #     encoder.add(L.BatchNormalization())\n",
    "    \n",
    "# #     encoder.add(L.Dense(512, activation='elu'))\n",
    "# #     encoder.add(L.Dropout(rate=0.2))\n",
    "# #     encoder.add(L.BatchNormalization())\n",
    "\n",
    "# #     encoder.add(L.Dense(256, activation='elu'))\n",
    "    \n",
    "# #     encoder.add(L.Dense(128, activation='elu'))\n",
    "    \n",
    "#     encoder.add(L.Dense(code_size)) \n",
    "\n",
    "#     # decoder\n",
    "#     decoder = keras.models.Sequential()\n",
    "#     decoder.add(L.InputLayer((code_size,)))\n",
    "    \n",
    "#     decoder.add(L.Dense(4*4*128))  #actual decoder, height*width*3 units\n",
    "    \n",
    "# #     decoder.add(L.Dense(128, activation='elu'))\n",
    "# #     decoder.add(L.Dropout(rate=0.2))\n",
    "# #     decoder.add(L.BatchNormalization())\n",
    "    \n",
    "# #     decoder.add(L.Dense(256, activation='elu'))\n",
    "# #     decoder.add(L.Dropout(rate=0.2))\n",
    "# #     decoder.add(L.BatchNormalization())\n",
    "# #     decoder.add(L.Dense(512, activation='elu'))\n",
    "    \n",
    "#     decoder.add(L.Dense(2048, activation='elu'))\n",
    "#     decoder.add(L.Dense(2048, activation='elu'))\n",
    "# #     decoder.add(L.Dense(1024, activation='elu'))\n",
    "    \n",
    "#     decoder.add(L.Reshape((4,4,128)))\n",
    "    \n",
    "#     decoder.add(L.Conv2DTranspose(filters=64, kernel_size=(3, 3), strides=2, activation='elu', padding='same'))\n",
    "# #     decoder.add(L.BatchNormalization())\n",
    "    \n",
    "#     decoder.add(L.Conv2DTranspose(filters=32, kernel_size=(3, 3), strides=2, activation='elu', padding='same'))\n",
    "# #     decoder.add(L.BatchNormalization())\n",
    "    \n",
    "#     decoder.add(L.Conv2DTranspose(filters=3, kernel_size=(3, 3), strides=2, activation=None, padding='same'))\n",
    "# #     decoder.add(L.BatchNormalization())\n",
    "    \n",
    "# #     decoder.add(L.Conv2DTranspose(filters=3, kernel_size=(3, 3), strides=2, activation=None, padding='same'))\n",
    "    \n",
    "#     return encoder, decoder\n"
   ]
  },
  {
   "cell_type": "code",
   "execution_count": 14,
   "metadata": {
    "ExecuteTime": {
     "end_time": "2019-01-08T22:50:58.004389Z",
     "start_time": "2019-01-08T22:50:57.899526Z"
    },
    "collapsed": false
   },
   "outputs": [],
   "source": [
    "reset_tf_session()"
   ]
  },
  {
   "cell_type": "code",
   "execution_count": 15,
   "metadata": {
    "ExecuteTime": {
     "end_time": "2019-01-08T22:50:58.798294Z",
     "start_time": "2019-01-08T22:50:58.005387Z"
    },
    "collapsed": false
   },
   "outputs": [
    {
     "name": "stdout",
     "output_type": "stream",
     "text": [
      "_________________________________________________________________\n",
      "Layer (type)                 Output Shape              Param #   \n",
      "=================================================================\n",
      "input_1 (InputLayer)         (None, 28, 28, 1)         0         \n",
      "_________________________________________________________________\n",
      "conv2d_1 (Conv2D)            (None, 28, 28, 32)        320       \n",
      "_________________________________________________________________\n",
      "batch_normalization_1 (Batch (None, 28, 28, 32)        128       \n",
      "_________________________________________________________________\n",
      "activation_1 (Activation)    (None, 28, 28, 32)        0         \n",
      "_________________________________________________________________\n",
      "max_pooling2d_1 (MaxPooling2 (None, 14, 14, 32)        0         \n",
      "_________________________________________________________________\n",
      "conv2d_2 (Conv2D)            (None, 14, 14, 64)        18496     \n",
      "_________________________________________________________________\n",
      "batch_normalization_2 (Batch (None, 14, 14, 64)        256       \n",
      "_________________________________________________________________\n",
      "activation_2 (Activation)    (None, 14, 14, 64)        0         \n",
      "_________________________________________________________________\n",
      "max_pooling2d_2 (MaxPooling2 (None, 7, 7, 64)          0         \n",
      "_________________________________________________________________\n",
      "conv2d_3 (Conv2D)            (None, 7, 7, 128)         73856     \n",
      "_________________________________________________________________\n",
      "batch_normalization_3 (Batch (None, 7, 7, 128)         512       \n",
      "_________________________________________________________________\n",
      "activation_3 (Activation)    (None, 7, 7, 128)         0         \n",
      "_________________________________________________________________\n",
      "max_pooling2d_3 (MaxPooling2 (None, 4, 4, 128)         0         \n",
      "_________________________________________________________________\n",
      "conv2d_4 (Conv2D)            (None, 4, 4, 256)         295168    \n",
      "_________________________________________________________________\n",
      "batch_normalization_4 (Batch (None, 4, 4, 256)         1024      \n",
      "_________________________________________________________________\n",
      "activation_4 (Activation)    (None, 4, 4, 256)         0         \n",
      "_________________________________________________________________\n",
      "max_pooling2d_4 (MaxPooling2 (None, 2, 2, 256)         0         \n",
      "_________________________________________________________________\n",
      "flatten_1 (Flatten)          (None, 1024)              0         \n",
      "_________________________________________________________________\n",
      "dense_1 (Dense)              (None, 1024)              1049600   \n",
      "_________________________________________________________________\n",
      "batch_normalization_5 (Batch (None, 1024)              4096      \n",
      "_________________________________________________________________\n",
      "activation_5 (Activation)    (None, 1024)              0         \n",
      "_________________________________________________________________\n",
      "dense_2 (Dense)              (None, 1024)              1049600   \n",
      "_________________________________________________________________\n",
      "batch_normalization_6 (Batch (None, 1024)              4096      \n",
      "_________________________________________________________________\n",
      "activation_6 (Activation)    (None, 1024)              0         \n",
      "_________________________________________________________________\n",
      "dense_3 (Dense)              (None, 32)                32800     \n",
      "=================================================================\n",
      "Total params: 2,529,952\n",
      "Trainable params: 2,524,896\n",
      "Non-trainable params: 5,056\n",
      "_________________________________________________________________\n",
      "_________________________________________________________________\n",
      "Layer (type)                 Output Shape              Param #   \n",
      "=================================================================\n",
      "input_2 (InputLayer)         (None, 32)                0         \n",
      "_________________________________________________________________\n",
      "dense_4 (Dense)              (None, 1024)              33792     \n",
      "_________________________________________________________________\n",
      "batch_normalization_7 (Batch (None, 1024)              4096      \n",
      "_________________________________________________________________\n",
      "activation_7 (Activation)    (None, 1024)              0         \n",
      "_________________________________________________________________\n",
      "dense_5 (Dense)              (None, 1024)              1049600   \n",
      "_________________________________________________________________\n",
      "batch_normalization_8 (Batch (None, 1024)              4096      \n",
      "_________________________________________________________________\n",
      "activation_8 (Activation)    (None, 1024)              0         \n",
      "_________________________________________________________________\n",
      "dense_6 (Dense)              (None, 1024)              1049600   \n",
      "_________________________________________________________________\n",
      "batch_normalization_9 (Batch (None, 1024)              4096      \n",
      "_________________________________________________________________\n",
      "reshape_1 (Reshape)          (None, 2, 2, 256)         0         \n",
      "_________________________________________________________________\n",
      "conv2d_5 (Conv2D)            (None, 2, 2, 256)         590080    \n",
      "_________________________________________________________________\n",
      "batch_normalization_10 (Batc (None, 2, 2, 256)         1024      \n",
      "_________________________________________________________________\n",
      "activation_9 (Activation)    (None, 2, 2, 256)         0         \n",
      "_________________________________________________________________\n",
      "up_sampling2d_1 (UpSampling2 (None, 4, 4, 256)         0         \n",
      "_________________________________________________________________\n",
      "conv2d_6 (Conv2D)            (None, 4, 4, 128)         295040    \n",
      "_________________________________________________________________\n",
      "batch_normalization_11 (Batc (None, 4, 4, 128)         512       \n",
      "_________________________________________________________________\n",
      "activation_10 (Activation)   (None, 4, 4, 128)         0         \n",
      "_________________________________________________________________\n",
      "up_sampling2d_2 (UpSampling2 (None, 8, 8, 128)         0         \n",
      "_________________________________________________________________\n",
      "conv2d_7 (Conv2D)            (None, 8, 8, 64)          73792     \n",
      "_________________________________________________________________\n",
      "batch_normalization_12 (Batc (None, 8, 8, 64)          256       \n",
      "_________________________________________________________________\n",
      "activation_11 (Activation)   (None, 8, 8, 64)          0         \n",
      "_________________________________________________________________\n",
      "up_sampling2d_3 (UpSampling2 (None, 16, 16, 64)        0         \n",
      "_________________________________________________________________\n",
      "conv2d_8 (Conv2D)            (None, 14, 14, 32)        18464     \n",
      "_________________________________________________________________\n",
      "batch_normalization_13 (Batc (None, 14, 14, 32)        128       \n",
      "_________________________________________________________________\n",
      "activation_12 (Activation)   (None, 14, 14, 32)        0         \n",
      "_________________________________________________________________\n",
      "up_sampling2d_4 (UpSampling2 (None, 28, 28, 32)        0         \n",
      "_________________________________________________________________\n",
      "conv2d_9 (Conv2D)            (None, 28, 28, 1)         289       \n",
      "=================================================================\n",
      "Total params: 3,124,865\n",
      "Trainable params: 3,117,761\n",
      "Non-trainable params: 7,104\n",
      "_________________________________________________________________\n"
     ]
    }
   ],
   "source": [
    "encoder = build_encoder(IMG_SHAPE, code_size=bit_size)\n",
    "decoder = build_decoder(IMG_SHAPE, code_size=bit_size)\n",
    "encoder.summary()\n",
    "decoder.summary()"
   ]
  },
  {
   "cell_type": "code",
   "execution_count": 16,
   "metadata": {
    "ExecuteTime": {
     "end_time": "2019-01-08T22:50:58.801757Z",
     "start_time": "2019-01-08T22:50:58.799559Z"
    },
    "collapsed": false
   },
   "outputs": [],
   "source": [
    "def lr_scheduler(epoch):\n",
    "    lrate = 0.001\n",
    "    \n",
    "    if epoch > 15:\n",
    "        lrate = 0.0005\n",
    "    if epoch > 20:\n",
    "        lrate = 0.0003\n",
    "    \n",
    "    return lrate"
   ]
  },
  {
   "cell_type": "code",
   "execution_count": 17,
   "metadata": {
    "ExecuteTime": {
     "end_time": "2019-01-08T22:50:58.812214Z",
     "start_time": "2019-01-08T22:50:58.802848Z"
    },
    "collapsed": false
   },
   "outputs": [],
   "source": [
    "optimizer = keras.optimizers.adam(decay=1e-6)"
   ]
  },
  {
   "cell_type": "code",
   "execution_count": null,
   "metadata": {
    "ExecuteTime": {
     "start_time": "2019-01-08T07:49:29.210Z"
    },
    "collapsed": false
   },
   "outputs": [],
   "source": []
  },
  {
   "cell_type": "code",
   "execution_count": 18,
   "metadata": {
    "ExecuteTime": {
     "end_time": "2019-01-08T22:50:59.348329Z",
     "start_time": "2019-01-08T22:50:58.813898Z"
    },
    "collapsed": false
   },
   "outputs": [],
   "source": [
    "inp = L.Input(IMG_SHAPE)\n",
    "code = encoder(inp)\n",
    "reconstruction = decoder(code)\n",
    "\n",
    "autoencoder = keras.models.Model(inputs=inp, outputs=reconstruction)\n",
    "autoencoder.compile(optimizer=optimizer, loss='mse')"
   ]
  },
  {
   "cell_type": "markdown",
   "metadata": {},
   "source": [
    "# Training"
   ]
  },
  {
   "cell_type": "code",
   "execution_count": 19,
   "metadata": {
    "ExecuteTime": {
     "end_time": "2019-01-08T23:13:01.003183Z",
     "start_time": "2019-01-08T22:50:59.349282Z"
    },
    "collapsed": false
   },
   "outputs": [
    {
     "name": "stdout",
     "output_type": "stream",
     "text": [
      "Train on 60000 samples, validate on 10000 samples\n",
      "Epoch 1/200\n",
      "60000/60000 [==============================] - 8s 128us/step - loss: 0.0314 - val_loss: 0.0466\n",
      "Epoch 2/200\n",
      "60000/60000 [==============================] - 7s 111us/step - loss: 0.0176 - val_loss: 0.0278\n",
      "Epoch 3/200\n",
      "60000/60000 [==============================] - 7s 111us/step - loss: 0.0150 - val_loss: 0.0190\n",
      "Epoch 4/200\n",
      "60000/60000 [==============================] - 7s 110us/step - loss: 0.0133 - val_loss: 0.0165\n",
      "Epoch 5/200\n",
      "60000/60000 [==============================] - 6s 107us/step - loss: 0.0125 - val_loss: 0.0155\n",
      "Epoch 6/200\n",
      "60000/60000 [==============================] - 6s 107us/step - loss: 0.0117 - val_loss: 0.0138\n",
      "Epoch 7/200\n",
      "60000/60000 [==============================] - 7s 109us/step - loss: 0.0112 - val_loss: 0.0129\n",
      "Epoch 8/200\n",
      "60000/60000 [==============================] - 7s 111us/step - loss: 0.0106 - val_loss: 0.0140\n",
      "Epoch 9/200\n",
      "60000/60000 [==============================] - 7s 109us/step - loss: 0.0103 - val_loss: 0.0116\n",
      "Epoch 10/200\n",
      "60000/60000 [==============================] - 7s 110us/step - loss: 0.0099 - val_loss: 0.0113\n",
      "Epoch 11/200\n",
      "60000/60000 [==============================] - 7s 110us/step - loss: 0.0097 - val_loss: 0.0110\n",
      "Epoch 12/200\n",
      "60000/60000 [==============================] - 7s 110us/step - loss: 0.0094 - val_loss: 0.0110\n",
      "Epoch 13/200\n",
      "60000/60000 [==============================] - 6s 108us/step - loss: 0.0092 - val_loss: 0.0107\n",
      "Epoch 14/200\n",
      "60000/60000 [==============================] - 7s 109us/step - loss: 0.0090 - val_loss: 0.0104\n",
      "Epoch 15/200\n",
      "60000/60000 [==============================] - 6s 107us/step - loss: 0.0089 - val_loss: 0.0108\n",
      "Epoch 16/200\n",
      "60000/60000 [==============================] - 6s 108us/step - loss: 0.0087 - val_loss: 0.0100\n",
      "Epoch 17/200\n",
      "60000/60000 [==============================] - 6s 106us/step - loss: 0.0086 - val_loss: 0.0102\n",
      "Epoch 18/200\n",
      "60000/60000 [==============================] - 7s 111us/step - loss: 0.0084 - val_loss: 0.0092\n",
      "Epoch 19/200\n",
      "60000/60000 [==============================] - 7s 112us/step - loss: 0.0082 - val_loss: 0.0096\n",
      "Epoch 20/200\n",
      "60000/60000 [==============================] - 7s 112us/step - loss: 0.0081 - val_loss: 0.0103\n",
      "Epoch 21/200\n",
      "60000/60000 [==============================] - 7s 112us/step - loss: 0.0081 - val_loss: 0.0098\n",
      "Epoch 22/200\n",
      "60000/60000 [==============================] - 7s 112us/step - loss: 0.0079 - val_loss: 0.0099\n",
      "Epoch 23/200\n",
      "60000/60000 [==============================] - 7s 112us/step - loss: 0.0079 - val_loss: 0.0093\n",
      "Epoch 24/200\n",
      "60000/60000 [==============================] - 7s 112us/step - loss: 0.0078 - val_loss: 0.0093\n",
      "Epoch 25/200\n",
      "60000/60000 [==============================] - 7s 111us/step - loss: 0.0077 - val_loss: 0.0090\n",
      "Epoch 26/200\n",
      "60000/60000 [==============================] - 7s 111us/step - loss: 0.0076 - val_loss: 0.0094\n",
      "Epoch 27/200\n",
      "60000/60000 [==============================] - 7s 111us/step - loss: 0.0075 - val_loss: 0.0089\n",
      "Epoch 28/200\n",
      "60000/60000 [==============================] - 7s 112us/step - loss: 0.0076 - val_loss: 0.0096\n",
      "Epoch 29/200\n",
      "60000/60000 [==============================] - 7s 112us/step - loss: 0.0074 - val_loss: 0.0090\n",
      "Epoch 30/200\n",
      "60000/60000 [==============================] - 7s 111us/step - loss: 0.0074 - val_loss: 0.0084\n",
      "Epoch 31/200\n",
      "60000/60000 [==============================] - 7s 111us/step - loss: 0.0073 - val_loss: 0.0088\n",
      "Epoch 32/200\n",
      "60000/60000 [==============================] - 7s 111us/step - loss: 0.0073 - val_loss: 0.0081\n",
      "Epoch 33/200\n",
      "60000/60000 [==============================] - 7s 111us/step - loss: 0.0073 - val_loss: 0.0088\n",
      "Epoch 34/200\n",
      "60000/60000 [==============================] - 7s 112us/step - loss: 0.0071 - val_loss: 0.0087\n",
      "Epoch 35/200\n",
      "60000/60000 [==============================] - 7s 111us/step - loss: 0.0071 - val_loss: 0.0088\n",
      "Epoch 36/200\n",
      "60000/60000 [==============================] - 7s 111us/step - loss: 0.0070 - val_loss: 0.0084\n",
      "Epoch 37/200\n",
      "60000/60000 [==============================] - 7s 111us/step - loss: 0.0070 - val_loss: 0.0087\n",
      "Epoch 38/200\n",
      "60000/60000 [==============================] - 7s 111us/step - loss: 0.0069 - val_loss: 0.0087\n",
      "Epoch 39/200\n",
      "60000/60000 [==============================] - 7s 111us/step - loss: 0.0069 - val_loss: 0.0091\n",
      "Epoch 40/200\n",
      "60000/60000 [==============================] - 7s 111us/step - loss: 0.0069 - val_loss: 0.0087\n",
      "Epoch 41/200\n",
      "60000/60000 [==============================] - 7s 111us/step - loss: 0.0068 - val_loss: 0.0086\n",
      "Epoch 42/200\n",
      "60000/60000 [==============================] - 7s 111us/step - loss: 0.0068 - val_loss: 0.0085\n",
      "Epoch 43/200\n",
      "60000/60000 [==============================] - 7s 111us/step - loss: 0.0067 - val_loss: 0.0083\n",
      "Epoch 44/200\n",
      "60000/60000 [==============================] - 7s 111us/step - loss: 0.0067 - val_loss: 0.0084\n",
      "Epoch 45/200\n",
      "60000/60000 [==============================] - 7s 111us/step - loss: 0.0067 - val_loss: 0.0080\n",
      "Epoch 46/200\n",
      "60000/60000 [==============================] - 7s 111us/step - loss: 0.0066 - val_loss: 0.0083\n",
      "Epoch 47/200\n",
      "60000/60000 [==============================] - 7s 111us/step - loss: 0.0066 - val_loss: 0.0081\n",
      "Epoch 48/200\n",
      "60000/60000 [==============================] - 7s 112us/step - loss: 0.0066 - val_loss: 0.0082\n",
      "Epoch 49/200\n",
      "60000/60000 [==============================] - 7s 112us/step - loss: 0.0065 - val_loss: 0.0085\n",
      "Epoch 50/200\n",
      "60000/60000 [==============================] - 7s 112us/step - loss: 0.0065 - val_loss: 0.0077\n",
      "Epoch 51/200\n",
      "60000/60000 [==============================] - 7s 110us/step - loss: 0.0065 - val_loss: 0.0076\n",
      "Epoch 52/200\n",
      "60000/60000 [==============================] - 7s 110us/step - loss: 0.0064 - val_loss: 0.0077\n",
      "Epoch 53/200\n",
      "60000/60000 [==============================] - 7s 111us/step - loss: 0.0064 - val_loss: 0.0083\n",
      "Epoch 54/200\n",
      "60000/60000 [==============================] - 7s 110us/step - loss: 0.0064 - val_loss: 0.0088\n",
      "Epoch 55/200\n",
      "60000/60000 [==============================] - 7s 111us/step - loss: 0.0063 - val_loss: 0.0075\n",
      "Epoch 56/200\n",
      "60000/60000 [==============================] - 7s 110us/step - loss: 0.0064 - val_loss: 0.0083\n",
      "Epoch 57/200\n",
      "60000/60000 [==============================] - 7s 111us/step - loss: 0.0063 - val_loss: 0.0074\n",
      "Epoch 58/200\n",
      "60000/60000 [==============================] - 7s 110us/step - loss: 0.0063 - val_loss: 0.0081\n",
      "Epoch 59/200\n",
      "60000/60000 [==============================] - 7s 110us/step - loss: 0.0062 - val_loss: 0.0079\n",
      "Epoch 60/200\n",
      "60000/60000 [==============================] - 7s 111us/step - loss: 0.0062 - val_loss: 0.0079\n",
      "Epoch 61/200\n",
      "60000/60000 [==============================] - 7s 111us/step - loss: 0.0062 - val_loss: 0.0076\n",
      "Epoch 62/200\n",
      "60000/60000 [==============================] - 7s 111us/step - loss: 0.0062 - val_loss: 0.0076\n",
      "Epoch 63/200\n",
      "60000/60000 [==============================] - 7s 111us/step - loss: 0.0061 - val_loss: 0.0077\n",
      "Epoch 64/200\n",
      "60000/60000 [==============================] - 7s 110us/step - loss: 0.0061 - val_loss: 0.0075\n",
      "Epoch 65/200\n",
      "60000/60000 [==============================] - 7s 111us/step - loss: 0.0061 - val_loss: 0.0076\n",
      "Epoch 66/200\n",
      "60000/60000 [==============================] - 7s 110us/step - loss: 0.0061 - val_loss: 0.0077\n",
      "Epoch 67/200\n",
      "60000/60000 [==============================] - 7s 111us/step - loss: 0.0061 - val_loss: 0.0075\n",
      "Epoch 68/200\n",
      "60000/60000 [==============================] - 7s 110us/step - loss: 0.0060 - val_loss: 0.0075\n",
      "Epoch 69/200\n",
      "60000/60000 [==============================] - 7s 110us/step - loss: 0.0060 - val_loss: 0.0074\n",
      "Epoch 70/200\n",
      "60000/60000 [==============================] - 7s 111us/step - loss: 0.0059 - val_loss: 0.0075\n",
      "Epoch 71/200\n",
      "60000/60000 [==============================] - 7s 110us/step - loss: 0.0059 - val_loss: 0.0076\n",
      "Epoch 72/200\n",
      "60000/60000 [==============================] - 7s 110us/step - loss: 0.0060 - val_loss: 0.0072\n",
      "Epoch 73/200\n",
      "60000/60000 [==============================] - 7s 110us/step - loss: 0.0059 - val_loss: 0.0071\n",
      "Epoch 74/200\n",
      "60000/60000 [==============================] - 7s 110us/step - loss: 0.0059 - val_loss: 0.0075\n",
      "Epoch 75/200\n",
      "60000/60000 [==============================] - 7s 110us/step - loss: 0.0059 - val_loss: 0.0073\n",
      "Epoch 76/200\n",
      "60000/60000 [==============================] - 7s 110us/step - loss: 0.0059 - val_loss: 0.0084\n",
      "Epoch 77/200\n",
      "60000/60000 [==============================] - 7s 110us/step - loss: 0.0058 - val_loss: 0.0072\n",
      "Epoch 78/200\n",
      "60000/60000 [==============================] - 7s 109us/step - loss: 0.0058 - val_loss: 0.0072\n",
      "Epoch 79/200\n",
      "60000/60000 [==============================] - 7s 110us/step - loss: 0.0058 - val_loss: 0.0072\n",
      "Epoch 80/200\n",
      "60000/60000 [==============================] - 7s 109us/step - loss: 0.0058 - val_loss: 0.0072\n",
      "Epoch 81/200\n",
      "60000/60000 [==============================] - 7s 110us/step - loss: 0.0057 - val_loss: 0.0071\n",
      "Epoch 82/200\n",
      "60000/60000 [==============================] - 7s 110us/step - loss: 0.0057 - val_loss: 0.0071\n",
      "Epoch 83/200\n",
      "60000/60000 [==============================] - 7s 109us/step - loss: 0.0057 - val_loss: 0.0076\n",
      "Epoch 84/200\n",
      "60000/60000 [==============================] - 7s 110us/step - loss: 0.0057 - val_loss: 0.0073\n",
      "Epoch 85/200\n",
      "60000/60000 [==============================] - 7s 110us/step - loss: 0.0057 - val_loss: 0.0074\n",
      "Epoch 86/200\n",
      "60000/60000 [==============================] - 7s 110us/step - loss: 0.0057 - val_loss: 0.0075\n",
      "Epoch 87/200\n",
      "60000/60000 [==============================] - 7s 110us/step - loss: 0.0057 - val_loss: 0.0073\n",
      "Epoch 88/200\n",
      "60000/60000 [==============================] - 7s 109us/step - loss: 0.0056 - val_loss: 0.0076\n",
      "Epoch 89/200\n",
      "60000/60000 [==============================] - 7s 109us/step - loss: 0.0056 - val_loss: 0.0075\n",
      "Epoch 90/200\n",
      "60000/60000 [==============================] - 7s 109us/step - loss: 0.0057 - val_loss: 0.0076\n",
      "Epoch 91/200\n",
      "60000/60000 [==============================] - 7s 110us/step - loss: 0.0056 - val_loss: 0.0071\n",
      "Epoch 92/200\n",
      "60000/60000 [==============================] - 7s 110us/step - loss: 0.0056 - val_loss: 0.0071\n",
      "Epoch 93/200\n",
      "60000/60000 [==============================] - 7s 110us/step - loss: 0.0055 - val_loss: 0.0072\n",
      "Epoch 94/200\n",
      "60000/60000 [==============================] - 7s 110us/step - loss: 0.0055 - val_loss: 0.0074\n",
      "Epoch 95/200\n",
      "60000/60000 [==============================] - 7s 110us/step - loss: 0.0055 - val_loss: 0.0070\n",
      "Epoch 96/200\n",
      "60000/60000 [==============================] - 7s 109us/step - loss: 0.0055 - val_loss: 0.0071\n",
      "Epoch 97/200\n",
      "60000/60000 [==============================] - 7s 110us/step - loss: 0.0055 - val_loss: 0.0073\n",
      "Epoch 98/200\n",
      "60000/60000 [==============================] - 7s 110us/step - loss: 0.0055 - val_loss: 0.0074\n",
      "Epoch 99/200\n",
      "60000/60000 [==============================] - 7s 109us/step - loss: 0.0055 - val_loss: 0.0074\n",
      "Epoch 100/200\n",
      "60000/60000 [==============================] - 7s 110us/step - loss: 0.0054 - val_loss: 0.0072\n",
      "Epoch 101/200\n",
      "60000/60000 [==============================] - 7s 109us/step - loss: 0.0055 - val_loss: 0.0070\n",
      "Epoch 102/200\n",
      "60000/60000 [==============================] - 7s 110us/step - loss: 0.0054 - val_loss: 0.0070\n",
      "Epoch 103/200\n",
      "60000/60000 [==============================] - 7s 109us/step - loss: 0.0054 - val_loss: 0.0072\n",
      "Epoch 104/200\n",
      "60000/60000 [==============================] - 7s 110us/step - loss: 0.0054 - val_loss: 0.0072\n",
      "Epoch 105/200\n",
      "60000/60000 [==============================] - 7s 110us/step - loss: 0.0054 - val_loss: 0.0072\n",
      "Epoch 106/200\n",
      "60000/60000 [==============================] - 7s 109us/step - loss: 0.0054 - val_loss: 0.0073\n",
      "Epoch 107/200\n",
      "60000/60000 [==============================] - 7s 110us/step - loss: 0.0054 - val_loss: 0.0070\n",
      "Epoch 108/200\n",
      "60000/60000 [==============================] - 7s 110us/step - loss: 0.0053 - val_loss: 0.0071\n",
      "Epoch 109/200\n",
      "60000/60000 [==============================] - 7s 110us/step - loss: 0.0053 - val_loss: 0.0070\n",
      "Epoch 110/200\n",
      "60000/60000 [==============================] - 7s 109us/step - loss: 0.0054 - val_loss: 0.0071\n",
      "Epoch 111/200\n",
      "60000/60000 [==============================] - 7s 109us/step - loss: 0.0053 - val_loss: 0.0075\n",
      "Epoch 112/200\n",
      "60000/60000 [==============================] - 7s 110us/step - loss: 0.0053 - val_loss: 0.0071\n",
      "Epoch 113/200\n",
      "60000/60000 [==============================] - 7s 110us/step - loss: 0.0053 - val_loss: 0.0070\n",
      "Epoch 114/200\n",
      "60000/60000 [==============================] - 7s 109us/step - loss: 0.0052 - val_loss: 0.0071\n",
      "Epoch 115/200\n",
      "60000/60000 [==============================] - 7s 110us/step - loss: 0.0053 - val_loss: 0.0073\n",
      "Epoch 116/200\n",
      "60000/60000 [==============================] - 7s 109us/step - loss: 0.0052 - val_loss: 0.0071\n",
      "Epoch 117/200\n",
      "60000/60000 [==============================] - 7s 110us/step - loss: 0.0052 - val_loss: 0.0070\n",
      "Epoch 118/200\n",
      "60000/60000 [==============================] - 7s 110us/step - loss: 0.0052 - val_loss: 0.0072\n",
      "Epoch 119/200\n",
      "60000/60000 [==============================] - 7s 109us/step - loss: 0.0052 - val_loss: 0.0072\n",
      "Epoch 120/200\n",
      "60000/60000 [==============================] - 7s 109us/step - loss: 0.0052 - val_loss: 0.0071\n",
      "Epoch 121/200\n",
      "60000/60000 [==============================] - 7s 109us/step - loss: 0.0052 - val_loss: 0.0070\n",
      "Epoch 122/200\n",
      "60000/60000 [==============================] - 7s 109us/step - loss: 0.0052 - val_loss: 0.0070\n",
      "Epoch 123/200\n",
      "60000/60000 [==============================] - 7s 109us/step - loss: 0.0051 - val_loss: 0.0070\n",
      "Epoch 124/200\n",
      "60000/60000 [==============================] - 7s 110us/step - loss: 0.0051 - val_loss: 0.0071\n",
      "Epoch 125/200\n",
      "60000/60000 [==============================] - 7s 109us/step - loss: 0.0051 - val_loss: 0.0071\n",
      "Epoch 126/200\n",
      "60000/60000 [==============================] - 7s 109us/step - loss: 0.0051 - val_loss: 0.0069\n",
      "Epoch 127/200\n",
      "60000/60000 [==============================] - 7s 109us/step - loss: 0.0051 - val_loss: 0.0071\n",
      "Epoch 128/200\n",
      "60000/60000 [==============================] - 7s 110us/step - loss: 0.0051 - val_loss: 0.0072\n",
      "Epoch 129/200\n",
      "60000/60000 [==============================] - 7s 109us/step - loss: 0.0051 - val_loss: 0.0071\n",
      "Epoch 130/200\n",
      "60000/60000 [==============================] - 7s 109us/step - loss: 0.0051 - val_loss: 0.0071\n",
      "Epoch 131/200\n",
      "60000/60000 [==============================] - 7s 110us/step - loss: 0.0051 - val_loss: 0.0070\n",
      "Epoch 132/200\n",
      "60000/60000 [==============================] - 7s 109us/step - loss: 0.0050 - val_loss: 0.0069\n",
      "Epoch 133/200\n",
      "60000/60000 [==============================] - 7s 109us/step - loss: 0.0051 - val_loss: 0.0071\n",
      "Epoch 134/200\n",
      "60000/60000 [==============================] - 7s 109us/step - loss: 0.0050 - val_loss: 0.0071\n",
      "Epoch 135/200\n",
      "60000/60000 [==============================] - 7s 109us/step - loss: 0.0050 - val_loss: 0.0073\n",
      "Epoch 136/200\n",
      "60000/60000 [==============================] - 7s 110us/step - loss: 0.0050 - val_loss: 0.0069\n",
      "Epoch 137/200\n",
      "60000/60000 [==============================] - 7s 109us/step - loss: 0.0050 - val_loss: 0.0072\n",
      "Epoch 138/200\n",
      "60000/60000 [==============================] - 7s 109us/step - loss: 0.0050 - val_loss: 0.0070\n",
      "Epoch 139/200\n",
      "60000/60000 [==============================] - 7s 109us/step - loss: 0.0050 - val_loss: 0.0073\n",
      "Epoch 140/200\n",
      "60000/60000 [==============================] - 7s 109us/step - loss: 0.0050 - val_loss: 0.0071\n",
      "Epoch 141/200\n",
      "60000/60000 [==============================] - 7s 109us/step - loss: 0.0050 - val_loss: 0.0071\n",
      "Epoch 142/200\n",
      "60000/60000 [==============================] - 7s 109us/step - loss: 0.0049 - val_loss: 0.0069\n",
      "Epoch 143/200\n",
      "60000/60000 [==============================] - 7s 109us/step - loss: 0.0050 - val_loss: 0.0073\n",
      "Epoch 144/200\n",
      "60000/60000 [==============================] - 7s 109us/step - loss: 0.0050 - val_loss: 0.0073\n",
      "Epoch 145/200\n",
      "60000/60000 [==============================] - 7s 109us/step - loss: 0.0049 - val_loss: 0.0070\n",
      "Epoch 146/200\n",
      "60000/60000 [==============================] - 7s 109us/step - loss: 0.0049 - val_loss: 0.0070\n",
      "Epoch 147/200\n",
      "60000/60000 [==============================] - 7s 109us/step - loss: 0.0049 - val_loss: 0.0070\n",
      "Epoch 148/200\n",
      "60000/60000 [==============================] - 7s 109us/step - loss: 0.0049 - val_loss: 0.0072\n",
      "Epoch 149/200\n",
      "60000/60000 [==============================] - 7s 109us/step - loss: 0.0049 - val_loss: 0.0071\n",
      "Epoch 150/200\n",
      "60000/60000 [==============================] - 7s 109us/step - loss: 0.0049 - val_loss: 0.0071\n",
      "Epoch 151/200\n",
      "60000/60000 [==============================] - 7s 109us/step - loss: 0.0049 - val_loss: 0.0071\n",
      "Epoch 152/200\n",
      "60000/60000 [==============================] - 7s 109us/step - loss: 0.0049 - val_loss: 0.0072\n",
      "Epoch 153/200\n",
      "60000/60000 [==============================] - 7s 110us/step - loss: 0.0049 - val_loss: 0.0070\n",
      "Epoch 154/200\n",
      "60000/60000 [==============================] - 7s 110us/step - loss: 0.0049 - val_loss: 0.0071\n",
      "Epoch 155/200\n",
      "60000/60000 [==============================] - 7s 109us/step - loss: 0.0048 - val_loss: 0.0071\n",
      "Epoch 156/200\n",
      "60000/60000 [==============================] - 7s 109us/step - loss: 0.0048 - val_loss: 0.0070\n",
      "Epoch 157/200\n",
      "60000/60000 [==============================] - 7s 110us/step - loss: 0.0048 - val_loss: 0.0070\n",
      "Epoch 158/200\n",
      "60000/60000 [==============================] - 7s 109us/step - loss: 0.0048 - val_loss: 0.0071\n",
      "Epoch 159/200\n",
      "60000/60000 [==============================] - 7s 109us/step - loss: 0.0048 - val_loss: 0.0072\n",
      "Epoch 160/200\n",
      "60000/60000 [==============================] - 7s 109us/step - loss: 0.0048 - val_loss: 0.0070\n",
      "Epoch 161/200\n",
      "60000/60000 [==============================] - 7s 109us/step - loss: 0.0048 - val_loss: 0.0071\n",
      "Epoch 162/200\n",
      "60000/60000 [==============================] - 7s 109us/step - loss: 0.0048 - val_loss: 0.0070\n",
      "Epoch 163/200\n",
      "60000/60000 [==============================] - 7s 110us/step - loss: 0.0048 - val_loss: 0.0070\n",
      "Epoch 164/200\n",
      "60000/60000 [==============================] - 7s 110us/step - loss: 0.0048 - val_loss: 0.0072\n",
      "Epoch 165/200\n",
      "60000/60000 [==============================] - 7s 109us/step - loss: 0.0048 - val_loss: 0.0070\n",
      "Epoch 166/200\n",
      "60000/60000 [==============================] - 7s 109us/step - loss: 0.0048 - val_loss: 0.0070\n",
      "Epoch 167/200\n",
      "60000/60000 [==============================] - 7s 109us/step - loss: 0.0047 - val_loss: 0.0070\n",
      "Epoch 168/200\n",
      "60000/60000 [==============================] - 7s 109us/step - loss: 0.0047 - val_loss: 0.0071\n",
      "Epoch 169/200\n",
      "60000/60000 [==============================] - 7s 110us/step - loss: 0.0047 - val_loss: 0.0071\n",
      "Epoch 170/200\n",
      "60000/60000 [==============================] - 7s 110us/step - loss: 0.0047 - val_loss: 0.0069\n",
      "Epoch 171/200\n",
      "60000/60000 [==============================] - 7s 110us/step - loss: 0.0047 - val_loss: 0.0070\n",
      "Epoch 172/200\n",
      "60000/60000 [==============================] - 7s 109us/step - loss: 0.0047 - val_loss: 0.0072\n",
      "Epoch 173/200\n",
      "60000/60000 [==============================] - 7s 109us/step - loss: 0.0047 - val_loss: 0.0069\n",
      "Epoch 174/200\n",
      "60000/60000 [==============================] - 7s 109us/step - loss: 0.0047 - val_loss: 0.0070\n",
      "Epoch 175/200\n",
      "60000/60000 [==============================] - 7s 109us/step - loss: 0.0047 - val_loss: 0.0073\n",
      "Epoch 176/200\n",
      "60000/60000 [==============================] - 7s 109us/step - loss: 0.0047 - val_loss: 0.0070\n",
      "Epoch 177/200\n",
      "60000/60000 [==============================] - 7s 109us/step - loss: 0.0047 - val_loss: 0.0072\n",
      "Epoch 178/200\n",
      "60000/60000 [==============================] - 7s 109us/step - loss: 0.0047 - val_loss: 0.0071\n",
      "Epoch 179/200\n",
      "60000/60000 [==============================] - 7s 109us/step - loss: 0.0047 - val_loss: 0.0072\n",
      "Epoch 180/200\n",
      "60000/60000 [==============================] - 7s 109us/step - loss: 0.0047 - val_loss: 0.0070\n",
      "Epoch 181/200\n",
      "60000/60000 [==============================] - 7s 109us/step - loss: 0.0046 - val_loss: 0.0071\n",
      "Epoch 182/200\n",
      "60000/60000 [==============================] - 7s 109us/step - loss: 0.0047 - val_loss: 0.0072\n",
      "Epoch 183/200\n",
      "60000/60000 [==============================] - 7s 109us/step - loss: 0.0046 - val_loss: 0.0071\n",
      "Epoch 184/200\n",
      "60000/60000 [==============================] - 7s 109us/step - loss: 0.0046 - val_loss: 0.0070\n",
      "Epoch 185/200\n",
      "60000/60000 [==============================] - 7s 109us/step - loss: 0.0046 - val_loss: 0.0070\n",
      "Epoch 186/200\n",
      "60000/60000 [==============================] - 7s 109us/step - loss: 0.0046 - val_loss: 0.0071\n",
      "Epoch 187/200\n",
      "60000/60000 [==============================] - 7s 110us/step - loss: 0.0046 - val_loss: 0.0072\n",
      "Epoch 188/200\n",
      "60000/60000 [==============================] - 7s 109us/step - loss: 0.0046 - val_loss: 0.0072\n",
      "Epoch 189/200\n",
      "60000/60000 [==============================] - 7s 109us/step - loss: 0.0046 - val_loss: 0.0071\n",
      "Epoch 190/200\n",
      "60000/60000 [==============================] - 7s 109us/step - loss: 0.0046 - val_loss: 0.0070\n",
      "Epoch 191/200\n",
      "60000/60000 [==============================] - 7s 109us/step - loss: 0.0046 - val_loss: 0.0073\n",
      "Epoch 192/200\n",
      "60000/60000 [==============================] - 7s 109us/step - loss: 0.0046 - val_loss: 0.0070\n",
      "Epoch 193/200\n",
      "60000/60000 [==============================] - 7s 109us/step - loss: 0.0046 - val_loss: 0.0070\n",
      "Epoch 194/200\n",
      "60000/60000 [==============================] - 7s 109us/step - loss: 0.0046 - val_loss: 0.0072\n",
      "Epoch 195/200\n",
      "60000/60000 [==============================] - 7s 110us/step - loss: 0.0046 - val_loss: 0.0071\n",
      "Epoch 196/200\n",
      "60000/60000 [==============================] - 7s 109us/step - loss: 0.0045 - val_loss: 0.0071\n",
      "Epoch 197/200\n",
      "60000/60000 [==============================] - 7s 109us/step - loss: 0.0045 - val_loss: 0.0071\n",
      "Epoch 198/200\n",
      "60000/60000 [==============================] - 7s 109us/step - loss: 0.0045 - val_loss: 0.0071\n",
      "Epoch 199/200\n",
      "60000/60000 [==============================] - 7s 109us/step - loss: 0.0045 - val_loss: 0.0073\n",
      "Epoch 200/200\n",
      "60000/60000 [==============================] - 7s 109us/step - loss: 0.0045 - val_loss: 0.0071\n"
     ]
    },
    {
     "data": {
      "text/plain": [
       "<keras.callbacks.History at 0x7fd1bcd8e0f0>"
      ]
     },
     "execution_count": 19,
     "metadata": {},
     "output_type": "execute_result"
    }
   ],
   "source": [
    "autoencoder.fit(x=x_train, y=x_train, epochs=num_epochs, batch_size=batch_size, shuffle=True,\n",
    "                validation_data=[x_test, x_test],\n",
    "                callbacks=[tensorboard],\n",
    "                verbose=1,\n",
    "                initial_epoch= 0)"
   ]
  },
  {
   "cell_type": "code",
   "execution_count": 20,
   "metadata": {
    "ExecuteTime": {
     "end_time": "2019-01-08T23:13:03.647794Z",
     "start_time": "2019-01-08T23:13:01.005069Z"
    },
    "collapsed": false
   },
   "outputs": [
    {
     "data": {
      "text/plain": [
       "{}"
      ]
     },
     "execution_count": 20,
     "metadata": {},
     "output_type": "execute_result"
    }
   ],
   "source": [
    "yag.send('mizutaninikkou@gmail.com', subject = \"Training Done\", contents='Training Done')"
   ]
  },
  {
   "cell_type": "code",
   "execution_count": 21,
   "metadata": {
    "ExecuteTime": {
     "end_time": "2019-01-08T23:13:05.627509Z",
     "start_time": "2019-01-08T23:13:03.652308Z"
    },
    "collapsed": false
   },
   "outputs": [],
   "source": [
    "autoencoder.save(F'{model_path}autoencoder{autoencoder_id}.h5')\n",
    "encoder.save(F'{model_path}encoder{autoencoder_id}.h5')\n",
    "decoder.save(F'{model_path}decoder{autoencoder_id}.h5')"
   ]
  },
  {
   "cell_type": "code",
   "execution_count": 22,
   "metadata": {
    "ExecuteTime": {
     "end_time": "2019-01-08T23:13:12.157113Z",
     "start_time": "2019-01-08T23:13:05.629917Z"
    },
    "collapsed": false
   },
   "outputs": [
    {
     "name": "stderr",
     "output_type": "stream",
     "text": [
      "/home/nicoroble/anaconda3/envs/tensorflow-gpu/lib/python3.6/site-packages/keras/models.py:282: UserWarning: No training configuration found in save file: the model was *not* compiled. Compile it manually.\n",
      "  warnings.warn('No training configuration found in save file: '\n"
     ]
    }
   ],
   "source": [
    "autoencoder = load_model(F'{model_path}autoencoder{autoencoder_id}.h5')\n",
    "encoder = load_model(F'{model_path}encoder{autoencoder_id}.h5')\n",
    "decoder = load_model(F'{model_path}decoder{autoencoder_id}.h5')"
   ]
  },
  {
   "cell_type": "code",
   "execution_count": 23,
   "metadata": {
    "ExecuteTime": {
     "end_time": "2019-01-08T23:13:12.393113Z",
     "start_time": "2019-01-08T23:13:12.158324Z"
    },
    "collapsed": false
   },
   "outputs": [],
   "source": [
    "code = encoder.predict(x_test[0][None])"
   ]
  },
  {
   "cell_type": "code",
   "execution_count": 24,
   "metadata": {
    "ExecuteTime": {
     "end_time": "2019-01-08T23:13:12.621288Z",
     "start_time": "2019-01-08T23:13:12.394102Z"
    },
    "collapsed": false
   },
   "outputs": [],
   "source": [
    "reco = decoder.predict(code)[0].reshape(28,28)"
   ]
  },
  {
   "cell_type": "code",
   "execution_count": 25,
   "metadata": {
    "ExecuteTime": {
     "end_time": "2019-01-08T23:13:12.698663Z",
     "start_time": "2019-01-08T23:13:12.622201Z"
    },
    "collapsed": false
   },
   "outputs": [
    {
     "data": {
      "text/plain": [
       "<matplotlib.image.AxesImage at 0x7fd1985eda90>"
      ]
     },
     "execution_count": 25,
     "metadata": {},
     "output_type": "execute_result"
    },
    {
     "data": {
      "image/png": "[encoded data removed]",
      "text/plain": [
       "<matplotlib.figure.Figure at 0x7fd29c157780>"
      ]
     },
     "metadata": {
      "needs_background": "light"
     },
     "output_type": "display_data"
    }
   ],
   "source": [
    "plt.imshow(reco)"
   ]
  },
  {
   "cell_type": "code",
   "execution_count": 26,
   "metadata": {
    "ExecuteTime": {
     "end_time": "2019-01-08T23:13:12.777932Z",
     "start_time": "2019-01-08T23:13:12.699632Z"
    },
    "collapsed": false
   },
   "outputs": [
    {
     "data": {
      "text/plain": [
       "<matplotlib.image.AxesImage at 0x7fd19859da58>"
      ]
     },
     "execution_count": 26,
     "metadata": {},
     "output_type": "execute_result"
    },
    {
     "data": {
      "image/png": "[encoded data removed]",
      "text/plain": [
       "<matplotlib.figure.Figure at 0x7fd1985e7400>"
      ]
     },
     "metadata": {
      "needs_background": "light"
     },
     "output_type": "display_data"
    }
   ],
   "source": [
    "plt.imshow(x_test[0].reshape(28,28))"
   ]
  },
  {
   "cell_type": "code",
   "execution_count": null,
   "metadata": {
    "collapsed": false
   },
   "outputs": [],
   "source": []
  },
  {
   "cell_type": "code",
   "execution_count": null,
   "metadata": {
    "collapsed": false
   },
   "outputs": [],
   "source": []
  }
 ],
 "metadata": {
  "anaconda-cloud": {},
  "kernelspec": {
   "display_name": "Python [conda env:tensorflow-gpu]",
   "language": "python",
   "name": "conda-env-tensorflow-gpu-py"
  },
  "language_info": {
   "codemirror_mode": {
    "name": "ipython",
    "version": 3
   },
   "file_extension": ".py",
   "mimetype": "text/x-python",
   "name": "python",
   "nbconvert_exporter": "python",
   "pygments_lexer": "ipython3",
   "version": "3.6.7"
  },
  "notify_time": "10",
  "toc": {
   "base_numbering": 1,
   "nav_menu": {},
   "number_sections": true,
   "sideBar": true,
   "skip_h1_title": false,
   "title_cell": "Table of Contents",
   "title_sidebar": "Contents",
   "toc_cell": false,
   "toc_position": {
    "height": "calc(100% - 180px)",
    "left": "10px",
    "top": "150px",
    "width": "353px"
   },
   "toc_section_display": true,
   "toc_window_display": true
  }
 },
 "nbformat": 4,
 "nbformat_minor": 1
}
